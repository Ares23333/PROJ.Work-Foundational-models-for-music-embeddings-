{
 "cells": [
  {
   "cell_type": "code",
   "execution_count": 29,
   "id": "b0f7c7d3",
   "metadata": {},
   "outputs": [
    {
     "name": "stdout",
     "output_type": "stream",
     "text": [
      "选定音乐: Must Of Got Lost\n",
      "\n",
      "最相似的音乐:\n",
      "                                   title\n",
      "422                       Hello Stranger\n",
      "8922       The Night Has A Thousand Eyes\n",
      "8043        Three O'Clock In The Morning\n",
      "2676                   Worried Man Blues\n",
      "4062     Love (Your Spell Is Everywhere)\n",
      "1154                            Get Back\n",
      "5323                       Not Fade Away\n",
      "9887                    I Started A Joke\n",
      "4782                  Home In San Antone\n",
      "12846  Nobody Knows TheTrouble I've Seen\n"
     ]
    }
   ],
   "source": [
    "#音乐相似性的计算方式（余弦相似度）\n",
    "import pandas as pd\n",
    "from sklearn.preprocessing import LabelEncoder\n",
    "from sklearn.metrics.pairwise import cosine_similarity\n",
    "\n",
    "# 读取包含所选特征的数据\n",
    "data = pd.read_csv('/Users/a123/Desktop/choco/datasets李/merged_meta.csv', low_memory=False)\n",
    "selected_features = ['duration', 'chord-start_time', 'chord-end_time',\n",
    "                     'key_mode-start_time', 'key_mode-end_time']\n",
    "# 选择所有需要的数值型特征\n",
    "data_selected = data[selected_features]\n",
    "\n",
    "# 使用众数填充缺失值\n",
    "data_selected = data_selected.fillna(data_selected.mode().iloc[0])\n",
    "\n",
    "# 计算相似性矩阵\n",
    "similarity_matrix = cosine_similarity(data_selected)\n",
    "\n",
    "# 选择一首音乐（例如，选择第一首音乐）\n",
    "selected_music_index = 0\n",
    "selected_music = data.iloc[selected_music_index]['title']\n",
    "\n",
    "# 根据相似性矩阵找到与选定音乐最相似的音乐\n",
    "similar_music_indices = similarity_matrix[selected_music_index].argsort()[::-1]\n",
    "top_similar_music_indices = similar_music_indices[1:11]  # 排除自身，选择前10个最相似的音乐\n",
    "\n",
    "# 打印最相似的音乐\n",
    "similar_music_data = data.iloc[top_similar_music_indices][['title']]\n",
    "print(\"选定音乐:\", selected_music)\n",
    "print(\"\\n最相似的音乐:\")\n",
    "print(similar_music_data)\n"
   ]
  },
  {
   "cell_type": "code",
   "execution_count": 30,
   "id": "443f3d9b",
   "metadata": {},
   "outputs": [
    {
     "name": "stdout",
     "output_type": "stream",
     "text": [
      "选定音乐: Must Of Got Lost\n",
      "作者: nan\n",
      "\n",
      "最相似的音乐和作者:\n",
      "                                                   title  \\\n",
      "4358                                           Work Song   \n",
      "2828                                      Elusive Dreams   \n",
      "2988                                  Pink Panther Theme   \n",
      "3250                                            Serenata   \n",
      "3411                                 Let Your Glory Fall   \n",
      "4264                                         Slow Change   \n",
      "871                              Shake Your Groove Thing   \n",
      "92                                      Against The Wind   \n",
      "11819                                   Nobody's Perfect   \n",
      "6725   String Quartet in A Major - No.1: Allegro di m...   \n",
      "\n",
      "                                 artist  \n",
      "4358   [\"Julian 'Cannonball' Adderley\"]  \n",
      "2828                                NaN  \n",
      "2988                  ['Henry Mancini']  \n",
      "3250                                NaN  \n",
      "3411                                NaN  \n",
      "4264                                NaN  \n",
      "871                                 NaN  \n",
      "92                                  NaN  \n",
      "11819                               NaN  \n",
      "6725                                NaN  \n"
     ]
    }
   ],
   "source": [
    "import pandas as pd\n",
    "from sklearn.preprocessing import LabelEncoder, OneHotEncoder\n",
    "from sklearn.metrics.pairwise import cosine_similarity\n",
    "\n",
    "# 读取包含所选特征的数据\n",
    "data = pd.read_csv('/Users/a123/Desktop/choco/datasets李/merged_meta.csv', low_memory=False)\n",
    "selected_features = ['duration','release', 'genre', 'composers', 'performers']\n",
    "# 选择所有需要的数值型特征\n",
    "data_selected = data[selected_features]\n",
    "\n",
    "# 对非数值特征进行独热编码\n",
    "categorical_features = ['release','genre', 'composers', 'performers']  # 需要独热编码的特征列\n",
    "data_selected = pd.get_dummies(data_selected, columns=categorical_features)\n",
    "\n",
    "# 创建一个LabelEncoder\n",
    "label_encoder = LabelEncoder()\n",
    "\n",
    "# 使用LabelEncoder对数值特征进行标签编码\n",
    "for col in selected_features:\n",
    "    if col not in categorical_features:\n",
    "        data_selected[col + '_encoded'] = label_encoder.fit_transform(data_selected[col])\n",
    "\n",
    "# 使用众数填充缺失值\n",
    "data_selected = data_selected.fillna(data_selected.mode().iloc[0])\n",
    "\n",
    "# 计算相似性矩阵\n",
    "similarity_matrix = cosine_similarity(data_selected)\n",
    "\n",
    "# 选择一首音乐（例如，选择第一首音乐）\n",
    "selected_music_index = 0\n",
    "selected_music_title = data.iloc[selected_music_index]['title']\n",
    "selected_music_artists = data.iloc[selected_music_index]['artist']\n",
    "\n",
    "# 根据相似性矩阵找到与选定音乐最相似的音乐\n",
    "similar_music_indices = similarity_matrix[selected_music_index].argsort()[::-1]\n",
    "top_similar_music_indices = similar_music_indices[1:11]  # 排除自身，选择前10个最相似的音乐\n",
    "\n",
    "# 打印最相似的音乐和作者\n",
    "print(\"选定音乐:\", selected_music_title)\n",
    "print(\"作者:\", selected_music_artists)\n",
    "print(\"\\n最相似的音乐和作者:\")\n",
    "similar_music_data = data.iloc[top_similar_music_indices][['title', 'artist']]\n",
    "print(similar_music_data)\n"
   ]
  },
  {
   "cell_type": "code",
   "execution_count": 31,
   "id": "3a893cdd",
   "metadata": {},
   "outputs": [
    {
     "name": "stdout",
     "output_type": "stream",
     "text": [
      "选定音乐 'Must Of Got Lost' 与 'Work Song' 的相似度分数为: 0.9999994765092821\n",
      "选定音乐 'Must Of Got Lost' 与 'Elusive Dreams' 的相似度分数为: 0.9999994765092821\n",
      "选定音乐 'Must Of Got Lost' 与 'Pink Panther Theme' 的相似度分数为: 0.9999994765092821\n",
      "选定音乐 'Must Of Got Lost' 与 'Serenata' 的相似度分数为: 0.9999994765092821\n",
      "选定音乐 'Must Of Got Lost' 与 'Let Your Glory Fall' 的相似度分数为: 0.9999994765092821\n",
      "选定音乐 'Must Of Got Lost' 与 'Slow Change' 的相似度分数为: 0.9999994765092821\n",
      "选定音乐 'Must Of Got Lost' 与 'Shake Your Groove Thing' 的相似度分数为: 0.9999994764950331\n",
      "选定音乐 'Must Of Got Lost' 与 'Against The Wind' 的相似度分数为: 0.9999994614472072\n",
      "选定音乐 'Must Of Got Lost' 与 'Nobody's Perfect' 的相似度分数为: 0.9999993932270815\n",
      "选定音乐 'Must Of Got Lost' 与 'String Quartet in A Major - No.1: Allegro di molto e scherzando' 的相似度分数为: 0.9999993932270815\n"
     ]
    }
   ],
   "source": [
    "# 打印选定音乐与最相似音乐之间的相似度分数\n",
    "for index in top_similar_music_indices:\n",
    "    similar_music = data.iloc[index]['title']\n",
    "    similarity_score = similarity_matrix[selected_music_index][index]\n",
    "    print(f\"选定音乐 '{selected_music}' 与 '{similar_music}' 的相似度分数为: {similarity_score}\")\n"
   ]
  },
  {
   "cell_type": "code",
   "execution_count": null,
   "id": "56c34b61",
   "metadata": {},
   "outputs": [],
   "source": []
  }
 ],
 "metadata": {
  "kernelspec": {
   "display_name": "Python 3 (ipykernel)",
   "language": "python",
   "name": "python3"
  },
  "language_info": {
   "codemirror_mode": {
    "name": "ipython",
    "version": 3
   },
   "file_extension": ".py",
   "mimetype": "text/x-python",
   "name": "python",
   "nbconvert_exporter": "python",
   "pygments_lexer": "ipython3",
   "version": "3.9.7"
  }
 },
 "nbformat": 4,
 "nbformat_minor": 5
}
